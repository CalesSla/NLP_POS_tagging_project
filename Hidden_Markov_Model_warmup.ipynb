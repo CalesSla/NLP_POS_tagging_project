{
 "cells": [
  {
   "cell_type": "markdown",
   "id": "6ef7eb6f",
   "metadata": {},
   "source": [
    "## Imports and auxillaries"
   ]
  },
  {
   "cell_type": "code",
   "execution_count": 27,
   "id": "273926f0",
   "metadata": {},
   "outputs": [
    {
     "name": "stdout",
     "output_type": "stream",
     "text": [
      "The autoreload extension is already loaded. To reload it, use:\n",
      "  %reload_ext autoreload\n"
     ]
    }
   ],
   "source": [
    "%load_ext autoreload\n",
    "%autoreload 1\n",
    "\n",
    "%run auxillary_functions.ipynb"
   ]
  },
  {
   "cell_type": "code",
   "execution_count": 28,
   "id": "8720fd67",
   "metadata": {},
   "outputs": [],
   "source": [
    "import matplotlib.pyplot as plt\n",
    "import numpy as np\n",
    "from pomegranate import State, HiddenMarkovModel, DiscreteDistribution"
   ]
  },
  {
   "cell_type": "markdown",
   "id": "a7408ba5",
   "metadata": {},
   "source": [
    "## Model initialisation and adding states"
   ]
  },
  {
   "cell_type": "code",
   "execution_count": 29,
   "id": "6b99516e",
   "metadata": {},
   "outputs": [],
   "source": [
    "# Initialize the model\n",
    "model = HiddenMarkovModel(name = \"Example Model\")\n",
    "\n",
    "# emission probability distributions, P(umbrella | weather)\n",
    "sunny_emissions = DiscreteDistribution({'yes': 0.1, 'no': 0.9})\n",
    "sunny_state = State(sunny_emissions, name = 'Sunny')\n",
    "\n",
    "rainy_emissions = DiscreteDistribution({'yes': 0.8, 'no': 0.2})\n",
    "rainy_state = State(rainy_emissions, name = 'Rainy')\n",
    "\n",
    "# add states to the model\n",
    "model.add_states(sunny_state, rainy_state)\n",
    "\n",
    "assert rainy_emissions.probability('yes') == 0.8, 'The director brings his umbrella with probability 0.8 on rainy days'"
   ]
  },
  {
   "cell_type": "code",
   "execution_count": null,
   "id": "f0814867",
   "metadata": {},
   "outputs": [],
   "source": []
  },
  {
   "cell_type": "code",
   "execution_count": 31,
   "id": "a8b76ae0",
   "metadata": {},
   "outputs": [],
   "source": [
    "# add initial (equal) probabilites of a sequence Monday - Friday\n",
    "model.add_transition(model.start, sunny_state, 0.5)\n",
    "model.add_transition(model.start, rainy_state, 0.5)\n",
    "\n",
    "# add sunny day transitions\n",
    "model.add_transition(sunny_state, sunny_state, 0.8)\n",
    "model.add_transition(sunny_state, rainy_state, 0.2)\n",
    "\n",
    "# add rainy day transitions\n",
    "model.add_transition(rainy_state, sunny_state, 0.4)\n",
    "model.add_transition(rainy_state, rainy_state, 0.6)\n",
    "\n",
    "# finalise the model with the bake method\n",
    "model.bake()\n",
    "\n",
    "assert model.edge_count() == 6, 'There should be two edges from model.start, two from Rainy, and two from Sunny'\n",
    "assert model.node_count() == 4, 'The states should include model.start, model.end, Rainy, and Sunny'"
   ]
  },
  {
   "cell_type": "code",
   "execution_count": null,
   "id": "dbca611f",
   "metadata": {},
   "outputs": [],
   "source": []
  },
  {
   "cell_type": "code",
   "execution_count": null,
   "id": "55c20ed6",
   "metadata": {},
   "outputs": [],
   "source": []
  }
 ],
 "metadata": {
  "kernelspec": {
   "display_name": "Python 3 (ipykernel)",
   "language": "python",
   "name": "python3"
  },
  "language_info": {
   "codemirror_mode": {
    "name": "ipython",
    "version": 3
   },
   "file_extension": ".py",
   "mimetype": "text/x-python",
   "name": "python",
   "nbconvert_exporter": "python",
   "pygments_lexer": "ipython3",
   "version": "3.10.9"
  }
 },
 "nbformat": 4,
 "nbformat_minor": 5
}
