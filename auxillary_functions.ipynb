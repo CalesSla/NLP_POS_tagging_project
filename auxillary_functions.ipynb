{
 "cells": [
  {
   "cell_type": "code",
   "execution_count": 1,
   "id": "c51c18e5",
   "metadata": {},
   "outputs": [],
   "source": [
    "import os\n",
    "import matplotlib.pyplot as plt\n",
    "import matplotlib.image as mplimg\n",
    "import networkx as nx\n",
    "import random\n",
    "\n",
    "from io import BytesIO\n",
    "from itertools import chain\n",
    "from collections import namedtuple, OrderedDict\n",
    "\n",
    "def show_model(model, figsize=(5, 5), **kwargs):\n",
    "    plt.figure(figsize=figsize)\n",
    "    plt.imshow(model2png(model, **kwargs))\n",
    "    plt.axis('off')"
   ]
  },
  {
   "cell_type": "code",
   "execution_count": null,
   "id": "b53dd938",
   "metadata": {},
   "outputs": [],
   "source": []
  }
 ],
 "metadata": {
  "kernelspec": {
   "display_name": "Python 3 (ipykernel)",
   "language": "python",
   "name": "python3"
  },
  "language_info": {
   "codemirror_mode": {
    "name": "ipython",
    "version": 3
   },
   "file_extension": ".py",
   "mimetype": "text/x-python",
   "name": "python",
   "nbconvert_exporter": "python",
   "pygments_lexer": "ipython3",
   "version": "3.10.9"
  }
 },
 "nbformat": 4,
 "nbformat_minor": 5
}
